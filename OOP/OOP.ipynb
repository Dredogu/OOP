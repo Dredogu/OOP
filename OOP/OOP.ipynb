{
  "nbformat": 4,
  "nbformat_minor": 0,
  "metadata": {
    "colab": {
      "provenance": []
    },
    "kernelspec": {
      "name": "python3",
      "display_name": "Python 3"
    },
    "language_info": {
      "name": "python"
    }
  },
  "cells": [
    {
      "cell_type": "markdown",
      "source": [
        "# Author : Dogukan Aksoy - Dre"
      ],
      "metadata": {
        "id": "r7Q2oudB7J_e"
      }
    },
    {
      "cell_type": "markdown",
      "source": [
        "# **`OOP`**\n",
        "\n",
        "# **`Class - Sinif`**\n",
        "\n",
        "Sınıf, nesnelerin oluşturulduğu kullanıcı tanımlı bir plan veya prototiptir. Sınıflar, verileri ve işlevleri bir araya getirmenin bir yolunu sağlar. Yeni bir sınıf oluşturmak, yeni bir nesne türü oluşturur ve bu türün yeni örneklerinin oluşturulmasına izin verir.\n",
        "\n",
        "# **`Object - Nesne`**\n",
        "\n",
        "Her sınıf örneği, durumunu korumak için kendisine eklenmiş niteliklere sahip olabilir. Sınıf örnekleri, durumlarını değiştirmek için (sınıfları tarafından tanımlanan) yöntemlere de sahip olabilir."
      ],
      "metadata": {
        "id": "4fdjXe9jNSmH"
      }
    },
    {
      "cell_type": "markdown",
      "source": [
        "`Defining a dog class `\n",
        "\n",
        "\n",
        "<img src = \"https://media.geeksforgeeks.org/wp-content/uploads/Blank-Diagram-Page-1-5.png\">\n",
        "\n",
        "\n",
        "<br>\n",
        "\n",
        "`Durum:` Bir nesnenin nitelikleri ile temsil edilir. Aynı zamanda bir nesnenin özelliklerini de yansıtır. <br>\n",
        "`Davranış:` Bir nesnenin yöntemleriyle temsil edilir. Ayrıca bir nesnenin diğer nesnelere tepkisini de yansıtır.<br>\n",
        "`Kimlik:` Bir nesneye benzersiz bir ad verir ve bir nesnenin diğer nesnelerle etkileşime girmesini sağlar.\n",
        "\n",
        "<br>\n",
        "<img src = \"https://media.geeksforgeeks.org/wp-content/uploads/Blank-Diagram-Page-1-3.png\">"
      ],
      "metadata": {
        "id": "Ve34UdriOpeP"
      }
    },
    {
      "cell_type": "code",
      "source": [
        "class Dog:\n",
        "  \"\"\"Dog Class Defination\"\"\"\n",
        "\n",
        "  name = \"karabas\"\n",
        "\n",
        "  def fun(self):\n",
        "    print(self.name)\n",
        "\n",
        "dog1 = Dog()  # Object declaration\n",
        "dog1.fun()\n",
        "dog1.name = \"benekli\"\n",
        "dog1.fun()"
      ],
      "metadata": {
        "colab": {
          "base_uri": "https://localhost:8080/"
        },
        "id": "z2nhfipmQN1D",
        "outputId": "0e5e415b-361b-4eac-eeab-cc2c21d18e07"
      },
      "execution_count": null,
      "outputs": [
        {
          "output_type": "stream",
          "name": "stdout",
          "text": [
            "karabas\n",
            "benekli\n"
          ]
        }
      ]
    },
    {
      "cell_type": "markdown",
      "source": [
        "# `Self`\n",
        "\n",
        "Sınıf yöntemleri, yöntem tanımında fazladan bir ilk parametreye sahip olmalıdır. Yöntemi çağırdığımızda bu parametre için bir değer vermiyoruz, Python sağlıyor."
      ],
      "metadata": {
        "id": "pwtmreTNTz9R"
      }
    },
    {
      "cell_type": "markdown",
      "source": [
        "# `__init__ method - Constructor`\n",
        "\n",
        "Yapıcılar, nesnenin durumunu başlatmak için kullanılır. Yöntemler gibi, bir yapıcı da Nesne oluşturma sırasında yürütülen bir ifadeler (yani talimatlar) koleksiyonu içerir. Bir sınıfın nesnesi başlatılır başlatılmaz çalışır."
      ],
      "metadata": {
        "id": "a8pmeQm0UL7F"
      }
    },
    {
      "cell_type": "code",
      "source": [
        "class Person:\n",
        "  \"\"\"Person Class Defination\"\"\"\n",
        "\n",
        "  # Class variable\n",
        "  _name:str = \"Dre\"  # Person name\n",
        "  _age:int = 0    # Person age\n",
        "\n",
        "  def __init__(self, name:str, age:int):\n",
        "    \"\"\"Constructor\n",
        "\n",
        "    name  (str) : Person name\n",
        "    age   (int) : Person age\n",
        "    \"\"\"\n",
        "    # Instance variable\n",
        "    self._name = name\n",
        "    self._age = age\n",
        "\n",
        "john_doe = Person(\"John-Doe\", 20)\n",
        "\n",
        "print(john_doe._name)\n",
        "print(john_doe._age)\n",
        "print(Person._name)"
      ],
      "metadata": {
        "colab": {
          "base_uri": "https://localhost:8080/"
        },
        "id": "NoPe3_xDUoIk",
        "outputId": "5780f502-cccc-4b41-d056-982a2ef2cfc5"
      },
      "execution_count": null,
      "outputs": [
        {
          "output_type": "stream",
          "name": "stdout",
          "text": [
            "John-Doe\n",
            "20\n",
            "Dre\n"
          ]
        }
      ]
    },
    {
      "cell_type": "code",
      "source": [
        "from datetime import date\n",
        "\n",
        "class Student:\n",
        "  \"\"\"Student Class Defination\"\"\"\n",
        "\n",
        "  #Class variable\n",
        "  _name:str = \"\"                        # Person name\n",
        "  _age:int = 0                          # Person age\n",
        "  _height:int = 0                       # Person height\n",
        "  _weight:int = 0                       # Person weight\n",
        "  _birth_year:int = date.today().year   # Person birth year\n",
        "  _bmi:int = 0                          # Person bmi \n",
        "  _bmi_status:str = \"\"                  # Person bmi status\n",
        "\n",
        "  def __init__(self, name:str, age:int, height:int, weight:int):\n",
        "    \"\"\"Constructor\n",
        "    \n",
        "    name    (str) :  Person name\n",
        "    age     (int) :  Person age\n",
        "    height  (int) :  Person height (in cm)\n",
        "    weight  (int) :  Person weight (in kg)\n",
        "    \"\"\"\n",
        "\n",
        "    #instance variable\n",
        "    self._name       = name\n",
        "    self._age        = age\n",
        "    self._height     = height\n",
        "    self._weight     = weight\n",
        "    self._birth_year = date.today().year - age\n",
        "\n",
        "    self.calculate_bmi()\n",
        "    self.check_bmi()\n",
        "\n",
        "  def calculate_bmi(self):\n",
        "    self._bmi = round(self._weight / (self._height/100)**2)\n",
        "    return self._bmi\n",
        "\n",
        "  def check_bmi(self):\n",
        "    if self._bmi < 18.5:\n",
        "      self._bmi_status = \"UNDER WEIGHT\"\n",
        "    elif 18.5 <= self._bmi < 25:\n",
        "      self._bmi_status = \"NORMAL WEIGHT\"\n",
        "    elif 25 <= self._bmi < 30:\n",
        "      self._bmi_status = \"OVER WEIGHT\"\n",
        "    elif 30 <= self._bmi < 35:\n",
        "      self._bmi_status = \"OBESE (CLASS 1)\"\n",
        "    elif 35 <= self._bmi < 40:\n",
        "      self._bmi_status = \"OBESE (CLASS 2)\"\n",
        "    elif 40 <= self._bmi: \n",
        "      self._bmi_status = \"OBESE (CLASS 3)\"\n",
        "            \n",
        "    return self._bmi_status\n",
        "\n",
        "\n",
        "  def __str__(self):\n",
        "    return f\"Name: {self._name}\\nAge: {self._age}\\nBirthyear: {self._birth_year}\\nWeight: {self._weight}\\nHeight: {self._height}\\nBMI: {self._bmi} - {self._bmi_status}\""
      ],
      "metadata": {
        "id": "gUFPMphKYljL"
      },
      "execution_count": null,
      "outputs": []
    },
    {
      "cell_type": "code",
      "source": [
        "dredogu = Student(\"Dogukan\", 20, 183, 103)\n",
        "print(dredogu)\n",
        "\n",
        "print()\n",
        "\n",
        "knetic0 = Student(\"Mehmet\", 19, 185, 85)\n",
        "print(knetic0)\n",
        "\n",
        "print()\n",
        "\n",
        "apikek = Student(\"Mustafa\", 18, 175, 52)\n",
        "print(apikek)"
      ],
      "metadata": {
        "colab": {
          "base_uri": "https://localhost:8080/"
        },
        "id": "j8JLsUtyeYmW",
        "outputId": "dbc4df87-7837-48f1-cf2e-1c1abeaea59a"
      },
      "execution_count": null,
      "outputs": [
        {
          "output_type": "stream",
          "name": "stdout",
          "text": [
            "Name: Dogukan\n",
            "Age: 20\n",
            "Birthyear: 2002\n",
            "Weight: 103\n",
            "Height: 183\n",
            "BMI: 31 - OBESE (CLASS 1)\n",
            "\n",
            "Name: Mehmet\n",
            "Age: 19\n",
            "Birthyear: 2003\n",
            "Weight: 85\n",
            "Height: 185\n",
            "BMI: 25 - OVER WEIGHT\n",
            "\n",
            "Name: Mustafa\n",
            "Age: 18\n",
            "Birthyear: 2004\n",
            "Weight: 52\n",
            "Height: 175\n",
            "BMI: 17 - UNDER WEIGHT\n"
          ]
        }
      ]
    },
    {
      "cell_type": "markdown",
      "source": [
        "# `Decorator - Susleyici`\n",
        "\n",
        "Dekoratörler, programcıların bir fonksiyonun veya sınıfın davranışını değiştirmesine izin verdiği için Python'da çok güçlü ve kullanışlı bir araçtır. Dekoratörler, sarılmış işlevin davranışını kalıcı olarak değiştirmeden genişletmek için başka bir işlevi sarmamıza izin verir. Ancak dekoratörlerin derinliklerine dalmadan önce, dekoratörleri öğrenmede kullanışlı olacak bazı kavramları anlayalım."
      ],
      "metadata": {
        "id": "El5Bv8OVhKuq"
      }
    },
    {
      "cell_type": "code",
      "source": [
        "def deco(fun):\n",
        "  def wrapper(name):\n",
        "    print(\"Start\\n\")\n",
        "    fun(name)\n",
        "    print(\"\\nStop\")\n",
        "  return wrapper\n",
        "\n",
        "@deco\n",
        "def print_name(name):\n",
        "  print(f\"Your name: {name}\")\n",
        "\n",
        "print_name(\"Dre\")"
      ],
      "metadata": {
        "colab": {
          "base_uri": "https://localhost:8080/"
        },
        "id": "4COKsTW7ipHh",
        "outputId": "47332a5a-67ab-46cc-98dd-7deb0b40dbe4"
      },
      "execution_count": null,
      "outputs": [
        {
          "output_type": "stream",
          "name": "stdout",
          "text": [
            "Start\n",
            "\n",
            "Your name: Dre\n",
            "\n",
            "Stop\n"
          ]
        }
      ]
    },
    {
      "cell_type": "markdown",
      "source": [
        "# `Property`\n",
        "Dekoratör Kullanarak Python property\n",
        "\n",
        "Dekoratörlerin ana işi, mevcut koda işlevsellik eklemek için kullanılmalarıdır."
      ],
      "metadata": {
        "id": "Lj85hfnZqziv"
      }
    },
    {
      "cell_type": "code",
      "source": [
        "# Without Property\n",
        "\n",
        "class Circle1:\n",
        "  def __init__(self, radius):\n",
        "    self._radius = radius\n",
        "\n",
        "  def get_radius(self):\n",
        "    \"\"\"The radius property.\"\"\"\n",
        "    print(\"Get radius\")\n",
        "    return self._radius\n",
        "\n",
        "  def set_radius(self, value):\n",
        "    print(\"Set radius\")\n",
        "    self._radius = value\n",
        "\n",
        "  def del_radius(self):\n",
        "    print(\"Delete radius\")\n",
        "    del self._radius"
      ],
      "metadata": {
        "id": "MqvX_V95uZKO"
      },
      "execution_count": null,
      "outputs": []
    },
    {
      "cell_type": "code",
      "source": [
        "c2 = Circle1(2)\n",
        "print(c2.get_radius())\n",
        "c2.set_radius(4)\n",
        "print(c2.get_radius())\n",
        "c2.del_radius()"
      ],
      "metadata": {
        "colab": {
          "base_uri": "https://localhost:8080/"
        },
        "id": "q11aZn2bvT8w",
        "outputId": "03bd2717-066c-4f4a-ac05-2abfa074722f"
      },
      "execution_count": null,
      "outputs": [
        {
          "output_type": "stream",
          "name": "stdout",
          "text": [
            "Get radius\n",
            "2\n",
            "Set radius\n",
            "Get radius\n",
            "4\n",
            "Delete radius\n"
          ]
        }
      ]
    },
    {
      "cell_type": "code",
      "source": [
        "# With Property\n",
        "\n",
        "class Circle2:\n",
        "    def __init__(self, radius):\n",
        "        self._radius = radius\n",
        "\n",
        "    @property\n",
        "    def radius(self):\n",
        "        \"\"\"The radius property.\"\"\"\n",
        "        print(\"Get radius\")\n",
        "        return self._radius\n",
        "\n",
        "    @radius.setter\n",
        "    def radius(self, value):\n",
        "        print(\"Set radius\")\n",
        "        self._radius = value\n",
        "\n",
        "    @radius.deleter\n",
        "    def radius(self):\n",
        "        print(\"Delete radius\")\n",
        "        del self._radius\n"
      ],
      "metadata": {
        "id": "tTH5E6krr1i6"
      },
      "execution_count": null,
      "outputs": []
    },
    {
      "cell_type": "code",
      "source": [
        "c1 = Circle2(2)\n",
        "print(c1.radius)\n",
        "c1.radius = 4\n",
        "print(c1.radius)\n",
        "del c1.radius"
      ],
      "metadata": {
        "colab": {
          "base_uri": "https://localhost:8080/"
        },
        "id": "py4je-g1t59b",
        "outputId": "47d36b49-18a6-4544-ce49-0702b826cde4"
      },
      "execution_count": null,
      "outputs": [
        {
          "output_type": "stream",
          "name": "stdout",
          "text": [
            "Get radius\n",
            "2\n",
            "Set radius\n",
            "Get radius\n",
            "4\n",
            "Delete radius\n"
          ]
        }
      ]
    },
    {
      "cell_type": "code",
      "source": [
        "from math import sqrt\n",
        "\n",
        "class Circle:\n",
        "    pi = 3.14159\n",
        "    def __init__(self, radius) -> None:\n",
        "        self._radius = radius  # instance variable\n",
        "        \n",
        "    @property\n",
        "    def radius(self):\n",
        "        \"\"\"The radius property\"\"\"\n",
        "        print('Radius Getter calisti')\n",
        "        return self._radius\n",
        "    \n",
        "    @radius.setter\n",
        "    def radius(self, value):\n",
        "        print('Radius Setter calisti')\n",
        "        if value < 0:\n",
        "            raise AttributeError('radius negatif olamaz!')\n",
        "        else:\n",
        "            self._radius = value\n",
        "\n",
        "    @property # property\n",
        "    def diameter(self):\n",
        "        print('Diameter Getter Calisti')\n",
        "        return self.radius * 2\n",
        "    \n",
        "    @diameter.setter\n",
        "    def diameter(self, value):\n",
        "        print('dimater setter calisti')\n",
        "        self.radius = value / 2\n",
        "        \n",
        "    @property\n",
        "    def area(self): # method\n",
        "        return self.pi * self.radius * self.radius\n",
        "    \n",
        "    @area.setter\n",
        "    def area(self, value):\n",
        "        self.radius = sqrt((value/self.pi))"
      ],
      "metadata": {
        "id": "8HkHJbT5wCPM"
      },
      "execution_count": null,
      "outputs": []
    },
    {
      "cell_type": "markdown",
      "source": [
        "# `class method - static method`\n",
        "\n",
        "`@classmethod` dekoratörü, fonksiyonunuz tanımlandıktan sonra değerlendirilen bir ifade olan yerleşik bir fonksiyon dekoratörüdür. Bu değerlendirmenin sonucu, işlev tanımınızı gölgeler. Bir sınıf yöntemi, sınıfı örtük bir ilk argüman olarak alır, tıpkı bir örnek yönteminin örneği alması gibi.\n",
        "\n",
        "Class Method tanımı için `@classmethod` decorator'u da kullanabilirsiniz.\n",
        "\n",
        "Statik bir yöntem, örtük bir ilk argüman almaz. Statik bir yöntem aynı zamanda sınıfın nesnesine değil, sınıfa bağlı bir yöntemdir. Bu yöntem, sınıf durumuna erişemez veya bunları değiştiremez. Bir sınıfta bulunur, çünkü yöntemin sınıfta bulunması mantıklıdır.\n",
        "\n",
        "static method tanımı için `@staticmethod` decorator'u da kullanabilirsiniz."
      ],
      "metadata": {
        "id": "yuL_gOiqwU_p"
      }
    },
    {
      "cell_type": "code",
      "source": [
        "from datetime import date\n",
        "  \n",
        "class Person:\n",
        "    def __init__(self, name, age):\n",
        "        self.name = name\n",
        "        self.age = age\n",
        "  \n",
        "    # a class method to create a\n",
        "    # Person object by birth year.\n",
        "    @classmethod\n",
        "    def fromBirthYear(cls, name, year):\n",
        "        return cls(name, date.today().year - year)\n",
        "  \n",
        "    # a static method to check if a\n",
        "    # Person is adult or not.\n",
        "    @staticmethod\n",
        "    def isAdult(age):\n",
        "        return age > 18\n",
        "  \n",
        "person1 = Person('Dre', 21)\n",
        "person2 = Person.fromBirthYear('Ozbey', 1996)\n",
        "  \n",
        "print(person1.age)\n",
        "print(person2.age)\n",
        "  \n",
        "# print the result\n",
        "print(Person.isAdult(22))"
      ],
      "metadata": {
        "colab": {
          "base_uri": "https://localhost:8080/"
        },
        "id": "AiBEaaTWwul0",
        "outputId": "fc98add3-6db3-483c-b67c-0e13fb54d275"
      },
      "execution_count": null,
      "outputs": [
        {
          "output_type": "stream",
          "name": "stdout",
          "text": [
            "21\n",
            "26\n",
            "True\n"
          ]
        }
      ]
    },
    {
      "cell_type": "markdown",
      "source": [
        "[Quiz 6 Dtayli anlatim](https://github.com/knetic0/oop-konuanlatimi/tree/master/static%26class-method%26decorator/quiz6) by [knetic0](https://github.com/knetic0)"
      ],
      "metadata": {
        "id": "3xxr4P9t0it_"
      }
    },
    {
      "cell_type": "code",
      "source": [
        "\"\"\"Quiz 6\n",
        "Ad Soyad: Doğukan AKSOY\n",
        "\"\"\"\n",
        "\n",
        "from datetime import date \n",
        "\n",
        "class Service:\n",
        "    \"\"\"Tamir servisi işlemlerini yapan sınıf\"\"\"\n",
        "\n",
        "    \"\"\"işçilik ücreti oranını ve servisin adını class variable olarak tanımlayıp, \n",
        "    ilk değerlerini giriniz. \"\"\" \n",
        "\n",
        "\n",
        "    \"\"\" price_list dictionary'si class variable olarak tanımlanmıştır\n",
        "        üzerinde herhangi bir değişiklik yapmayınız\n",
        "        yapılan işlemin ücretini hesaplamak için faydalanmalısınız.\n",
        "    \"\"\"\n",
        "    workmanship_rate = 0\n",
        "    service_name = \"\"\n",
        "    total_price = 0\n",
        "    \n",
        "    price_list = {\n",
        "        \"yag\":400,\n",
        "        \"yag_filtresi\":75,\n",
        "        \"hava_filtresi\":110,\n",
        "        \"polen_filtresi\":60,\n",
        "        \"yikama\":50,\n",
        "        \"motor_temizligi\":100,\n",
        "        \"buji\":600,\n",
        "        \"aku\":1500,\n",
        "        \"balata\":750,\n",
        "        \"disk\":1600,\n",
        "        \"triger\":1250,\n",
        "    }\n",
        "\n",
        "    def __init__(self, plate_no:str, name_surname:str, work_list=[]) -> None:\n",
        "        \"\"\"Service constructor\n",
        "\n",
        "        Args:\n",
        "            plate_no (str): plaka no\n",
        "            name_surname (str): isim soyisim\n",
        "            work_list (list[str]): yapılacak iş listesi\n",
        "        \"\"\"\n",
        "        self.plate_no = plate_no\n",
        "        self._name_surname = name_surname\n",
        "        self.work_list = work_list\n",
        "        self.do = []\n",
        "\n",
        "\n",
        "    @classmethod\n",
        "    def onbin(cls,plate_no:str, name_surname:str, work_list=[]):\n",
        "        \"\"\"onbin bakımı için ön tanımlı iş listesine sahip constructor overload\n",
        "\n",
        "        Args:\n",
        "            plate_no (str): plaka no\n",
        "            name_surname (str): isim soyisim\n",
        "            work_list (list[str], optional): yapılacak iş listesi varsayılan değeri [].\n",
        "\n",
        "        ön tanımlı iş listesi[\"yag\",\"yag_filtresi\",\"hava_filtresi\",\"polen_filtresi\",\"yikama\"]\n",
        "        Returns:\n",
        "            Service: geriye service türünde bir örnek döndürüyor\n",
        "        \"\"\"\n",
        "        work_list.extend([\"yag\",\"yag_filtresi\",\"hava_filtresi\",\"polen_filtresi\",\"yikama\"])\n",
        "        return cls(plate_no, name_surname, work_list)\n",
        "        \n",
        "    \n",
        "    @classmethod\n",
        "    def yirmibin(cls,plate_no:str, name_surname:str, work_list=[]):\n",
        "        \"\"\"yirmibin bakımı için ön tanımlı iş listesine sahip constructor overload\n",
        "\n",
        "        Args:\n",
        "            plate_no (str): plaka no\n",
        "            name_surname (str): isim soyisim\n",
        "            work_list (list[str], optional): yapılacak iş listesi varsayılan değeri [].\n",
        "\n",
        "        ön tanımlı iş listesi[\"motor_temizligi\",\"balata\",\"disk\",\"yag\",\"yag_filtresi\",\"hava_filtresi\",\"polen_filtresi\",\"yikama\"]\n",
        "        Returns:\n",
        "            Service: geriye service türünde bir örnek döndürüyor\n",
        "        \"\"\" \n",
        "        work_list = [\"motor_temizligi\",\"balata\",\"disk\"]\n",
        "        return cls.onbin(plate_no, name_surname, work_list)\n",
        "    \n",
        "    @classmethod\n",
        "    def otuzbin(cls,plate_no:str, name_surname:str, work_list=[]):\n",
        "        \"\"\"otuzbin bakımı için ön tanımlı iş listesine sahip constructor overload\n",
        "\n",
        "        Args:\n",
        "            plate_no (str): plaka no\n",
        "            name_surname (str): isim soyisim\n",
        "            work_list (list[str], optional): yapılacak iş listesi varsayılan değeri [].\n",
        "\n",
        "        ön tanımlı iş listesi[\"triger\",\"buji\",\"motor_temizligi\",\"balata\",\"disk\",\"yag\",\"yag_filtresi\",\"hava_filtresi\",\"polen_filtresi\",\"yikama\"]\n",
        "        Returns:\n",
        "            Service: geriye service türünde bir örnek döndürüyor\n",
        "        \"\"\" \n",
        "        work_list = [\"motor_temizligi\",\"balata\",\"disk\",\"yag\",\"yag_filtresi\",\"hava_filtresi\",\"polen_filtresi\",\"yikama\"]\n",
        "        return cls(plate_no, name_surname, work_list)\n",
        "    \n",
        "    @property\n",
        "    def name_surname(self) -> str:\n",
        "        \"\"\"name_surname getter\n",
        "\n",
        "        Returns:\n",
        "            str: __name ve __surname gizli değişkenlerinde tutulan anonimleştirilmiş isim ve soy ismi geriye döndürür\n",
        "            örnek: Ala*** Uça***\n",
        "        \"\"\" \n",
        "        return Service.anonymize(self._name_surname)\n",
        "\n",
        "    @name_surname.setter\n",
        "    def name_surname(self,value:str) -> None:\n",
        "        \"\"\"name_surname setter\n",
        "\n",
        "        Args:\n",
        "            value (str): içerisine isim ve soyisim alıyor ve __name ve __surname gizli değişkenlerine atama yapıyor.\n",
        "        \"\"\" \n",
        "        self._name_surname = value\n",
        "\n",
        "    @classmethod\n",
        "    def set_workmanship_rate(cls,workmanship_rate:float) -> None:\n",
        "        \"\"\"işçilik oranı class variable ını değiştiren class method\n",
        "\n",
        "        Args:\n",
        "            workmanship_rate (float): işçilik oranı\n",
        "        \"\"\" \n",
        "        cls.workmanship_rate = workmanship_rate\n",
        "\n",
        "    @classmethod\n",
        "    def set_service_name(cls,service_name) -> None:\n",
        "        \"\"\"servis adı class variable nı değiştiren class method\n",
        "\n",
        "        Args:\n",
        "            service_name (_type_): servis adı \n",
        "        \"\"\" \n",
        "        cls.service_name = service_name\n",
        "\n",
        "    def do_worklist(self):\n",
        "        \"\"\"iş listesinde yer alan her işçilik kalemi için\n",
        "           önce işin fiyatını bulur\n",
        "           sonra işçilik oranına göre işçilik ücretini hesaplar\n",
        "           yapılan işler listesine ekler\n",
        "        \"\"\" \n",
        "        for work in self.work_list:\n",
        "            self.do.append(f\"*{work},{self.price_list[work]}tl,{self.price_list[work]*self.workmanship_rate}tl\")\n",
        "            self.total_price += self.price_list[work]\n",
        "            self.total_price += self.price_list[work]*self.workmanship_rate\n",
        "        \n",
        "\n",
        "    def print(self) -> None:\n",
        "        \"\"\"serviste yapılan işlerin ücret özetini ekrana basar\n",
        "        format:\n",
        "            20 tane -\n",
        "            <plaka>-<anonimleştirilmiş isim soy isim>-<bugünkü tarih, yıl,ay,gün>\n",
        "            başında * ile yapılan her bir işlemi alt alta *<work>,<price>tl,<workmanship>tl\n",
        "            İşçilik Oranı: <workmanship_rate>\n",
        "            Toplam: <toplam_tutar>tl\n",
        "            Servis: <service_name>\n",
        "            20 tane -\n",
        "        \"\"\" \n",
        "        \n",
        "        print('-'*20)\n",
        "        print(f\"{self.plate_no}-{self.name_surname}-{date.today()}\")\n",
        "        for i in self.do:\n",
        "            print(i)\n",
        "        print(f\"İşçilik Oranı:{self.workmanship_rate}\")\n",
        "        print(f\"Toplam:{self.total_price}tl\")\n",
        "        print(f\"Servis:{self.service_name}\")\n",
        "        print('-'*20)\n",
        "        \n",
        "\n",
        "    @staticmethod\n",
        "    def anonymize(_in) -> str:\n",
        "        \"\"\"Gelen stringin ilk üç harfini alır ve \n",
        "        sonuna *** ekleyerek anonimleştirme işlemi gerçekleştirir.\n",
        "        Bu bir static methoddur.\n",
        "\n",
        "        Args:\n",
        "            _in (str): gelen string\n",
        "\n",
        "        Returns:\n",
        "            str: anonimleşmiş string\n",
        "        \"\"\" \n",
        "        \n",
        "        name, surname = _in.split(\" \")\n",
        "        name = f\"{name[0:3]}***\"\n",
        "        surname = f\"{surname[0:3]}***\"\n",
        "        return f'{name} {surname}'\n"
      ],
      "metadata": {
        "id": "y2BUUvwpz7zJ"
      },
      "execution_count": null,
      "outputs": []
    },
    {
      "cell_type": "code",
      "source": [
        "clients =[\n",
        "    {\n",
        "        \"plate_no\":\"80EF9060\",\n",
        "        \"name_surname\":\"Mustafa Yıldız\",\n",
        "        \"work_list\":[\"yag\",\"yikama\"]\n",
        "    },\n",
        "    {\n",
        "        \"plate_no\":\"80VV1234\",\n",
        "        \"name_surname\":\"Hasan Tonton\",\n",
        "        \"work_list\":[\"yikama\",\"motor_temizligi\"]\n",
        "    },\n",
        "    {\n",
        "        \"plate_no\":\"06PP9658\",\n",
        "        \"name_surname\":\"Hatice Kurtulan\",\n",
        "        \"work_list\":[\"disk\",\"balata\"]\n",
        "    },\n",
        "    {\n",
        "        \"plate_no\":\"34GG7766\",\n",
        "        \"name_surname\":\"Elif Korkmaz\",\n",
        "        \"work_list\":[\"onbin\"]\n",
        "    },\n",
        "    {\n",
        "        \"plate_no\":\"46TT2154\",\n",
        "        \"name_surname\":\"Şevket Altuğ\",\n",
        "        \"work_list\":[\"yirmibin\"]\n",
        "    },\n",
        "    {\n",
        "        \"plate_no\":\"01AA001\",\n",
        "        \"name_surname\":\"Adana Valisi\",\n",
        "        \"work_list\":[\"otuzbin\"]\n",
        "    },\n",
        "    {\n",
        "        \"plate_no\":\"31HH9988\",\n",
        "        \"name_surname\":\"Sadi Payaslı\",\n",
        "        \"work_list\":[\"otuzbin\"]\n",
        "    }\n",
        "]\n",
        "\n",
        "Service.set_service_name(\"Hasan Usta\")\n",
        "Service.set_workmanship_rate(0.25)\n",
        "\n",
        "for client in clients:\n",
        "    if client[\"work_list\"][0] == \"onbin\":\n",
        "        cl = Service.onbin(\n",
        "            plate_no = client[\"plate_no\"], \n",
        "            name_surname= client[\"name_surname\"]\n",
        "        )\n",
        "    elif client[\"work_list\"][0] == \"yirmibin\":\n",
        "        cl = Service.yirmibin(\n",
        "            plate_no = client[\"plate_no\"], \n",
        "            name_surname= client[\"name_surname\"]\n",
        "        )\n",
        "    elif client[\"work_list\"][0] == \"otuzbin\":\n",
        "        cl = Service.otuzbin(\n",
        "            plate_no = client[\"plate_no\"], \n",
        "            name_surname= client[\"name_surname\"]\n",
        "        )\n",
        "    else:\n",
        "        cl = Service(\n",
        "            plate_no = client[\"plate_no\"], \n",
        "            name_surname= client[\"name_surname\"],\n",
        "            work_list= client[\"work_list\"]\n",
        "        )\n",
        "    cl.do_worklist()\n",
        "    cl.print()"
      ],
      "metadata": {
        "colab": {
          "base_uri": "https://localhost:8080/"
        },
        "id": "wiXweai10Rm2",
        "outputId": "13259b1a-4d02-4ff0-905d-e1d6f7956fa2"
      },
      "execution_count": null,
      "outputs": [
        {
          "output_type": "stream",
          "name": "stdout",
          "text": [
            "--------------------\n",
            "80EF9060-Mus*** Yıl***-2022-11-09\n",
            "*yag,400tl,100.0tl\n",
            "*yikama,50tl,12.5tl\n",
            "İşçilik Oranı:0.25\n",
            "Toplam:562.5tl\n",
            "Servis:Hasan Usta\n",
            "--------------------\n",
            "--------------------\n",
            "80VV1234-Has*** Ton***-2022-11-09\n",
            "*yikama,50tl,12.5tl\n",
            "*motor_temizligi,100tl,25.0tl\n",
            "İşçilik Oranı:0.25\n",
            "Toplam:187.5tl\n",
            "Servis:Hasan Usta\n",
            "--------------------\n",
            "--------------------\n",
            "06PP9658-Hat*** Kur***-2022-11-09\n",
            "*disk,1600tl,400.0tl\n",
            "*balata,750tl,187.5tl\n",
            "İşçilik Oranı:0.25\n",
            "Toplam:2937.5tl\n",
            "Servis:Hasan Usta\n",
            "--------------------\n",
            "--------------------\n",
            "34GG7766-Eli*** Kor***-2022-11-09\n",
            "*yag,400tl,100.0tl\n",
            "*yag_filtresi,75tl,18.75tl\n",
            "*hava_filtresi,110tl,27.5tl\n",
            "*polen_filtresi,60tl,15.0tl\n",
            "*yikama,50tl,12.5tl\n",
            "İşçilik Oranı:0.25\n",
            "Toplam:868.75tl\n",
            "Servis:Hasan Usta\n",
            "--------------------\n",
            "--------------------\n",
            "46TT2154-Şev*** Alt***-2022-11-09\n",
            "*motor_temizligi,100tl,25.0tl\n",
            "*balata,750tl,187.5tl\n",
            "*disk,1600tl,400.0tl\n",
            "*yag,400tl,100.0tl\n",
            "*yag_filtresi,75tl,18.75tl\n",
            "*hava_filtresi,110tl,27.5tl\n",
            "*polen_filtresi,60tl,15.0tl\n",
            "*yikama,50tl,12.5tl\n",
            "İşçilik Oranı:0.25\n",
            "Toplam:3931.25tl\n",
            "Servis:Hasan Usta\n",
            "--------------------\n",
            "--------------------\n",
            "01AA001-Ada*** Val***-2022-11-09\n",
            "*motor_temizligi,100tl,25.0tl\n",
            "*balata,750tl,187.5tl\n",
            "*disk,1600tl,400.0tl\n",
            "*yag,400tl,100.0tl\n",
            "*yag_filtresi,75tl,18.75tl\n",
            "*hava_filtresi,110tl,27.5tl\n",
            "*polen_filtresi,60tl,15.0tl\n",
            "*yikama,50tl,12.5tl\n",
            "İşçilik Oranı:0.25\n",
            "Toplam:3931.25tl\n",
            "Servis:Hasan Usta\n",
            "--------------------\n",
            "--------------------\n",
            "31HH9988-Sad*** Pay***-2022-11-09\n",
            "*motor_temizligi,100tl,25.0tl\n",
            "*balata,750tl,187.5tl\n",
            "*disk,1600tl,400.0tl\n",
            "*yag,400tl,100.0tl\n",
            "*yag_filtresi,75tl,18.75tl\n",
            "*hava_filtresi,110tl,27.5tl\n",
            "*polen_filtresi,60tl,15.0tl\n",
            "*yikama,50tl,12.5tl\n",
            "İşçilik Oranı:0.25\n",
            "Toplam:3931.25tl\n",
            "Servis:Hasan Usta\n",
            "--------------------\n"
          ]
        }
      ]
    },
    {
      "cell_type": "markdown",
      "source": [
        "# Inheritance"
      ],
      "metadata": {
        "id": "be79sASHxylj"
      }
    },
    {
      "cell_type": "code",
      "source": [
        "class Person:\n",
        "\n",
        "  __name:str = \"\"\n",
        "  __surname:str = \"\"\n",
        "\n",
        "  def __init__(self, name, surname):\n",
        "    self.name = name\n",
        "    self.surname = surname\n",
        "\n",
        "  @property\n",
        "  def name(self):\n",
        "    return f\"{self.__name[:3]}***\"\n",
        "\n",
        "  @name.setter\n",
        "  def name(self, value):\n",
        "    if len(value) > 2:\n",
        "      self.__name = value\n",
        "\n",
        "  @property\n",
        "  def surname(self):\n",
        "    return f\"{self.__surname[:3]}***\"\n",
        "\n",
        "  @surname.setter\n",
        "  def surname(self, value):\n",
        "    if len(value) > 2:\n",
        "      self.__surname = value\n",
        "\n",
        "class Employee(Person):\n",
        "  def isEmployee(self):\n",
        "    return True\n",
        "\n",
        "emp1 = Employee(\"Dogukan\", \"Aksoy\")\n",
        "print(emp1.name)\n",
        "print(emp1.surname)"
      ],
      "metadata": {
        "colab": {
          "base_uri": "https://localhost:8080/"
        },
        "id": "zdiNlPii1-1K",
        "outputId": "c438736d-1750-4c66-9d51-0d489efbe8f2"
      },
      "execution_count": 11,
      "outputs": [
        {
          "output_type": "stream",
          "name": "stdout",
          "text": [
            "Dog***\n",
            "Aks***\n"
          ]
        }
      ]
    },
    {
      "cell_type": "code",
      "source": [
        "class Polygon:\n",
        "  def __init__(self, no_of_sides):\n",
        "    self.sides = [0 for i in range(no_of_sides)]\n",
        "\n",
        "  def inputSides(self):\n",
        "    self.sides = [float(input(f\"Enter {i+1}: \")) for i in range(len(self.sides))]\n",
        "\n",
        "  def dispSides(self):\n",
        "    for i in range(len(self.sides)):\n",
        "      print(f\"{i+1}. sides: {self.sides[i]}\")\n",
        "\n",
        "class Triangle(Polygon):\n",
        "  def __init__(self):\n",
        "    super().__init__(3)\n",
        "\n",
        "  def findArea(self):\n",
        "    a, b, c = self.sides\n",
        "    s = (a + b + c) / 2\n",
        "    area = (s*(s-a)*(s-b)*(s-c)) ** 0.5\n",
        "    print(\"Area: %0.2f\" %area)"
      ],
      "metadata": {
        "id": "PpfvcxgCx2H7"
      },
      "execution_count": 5,
      "outputs": []
    },
    {
      "cell_type": "code",
      "source": [
        "tr = Triangle()\n",
        "tr.inputSides()\n",
        "tr.findArea()\n",
        "\n",
        "issubclass(Triangle, Polygon) # Triangle classi Polygon classindanmi turedi"
      ],
      "metadata": {
        "colab": {
          "base_uri": "https://localhost:8080/"
        },
        "id": "r3QQJWOr0Yh_",
        "outputId": "b4c51dee-2a59-4fed-e531-cae0a4d5e833"
      },
      "execution_count": 8,
      "outputs": [
        {
          "output_type": "stream",
          "name": "stdout",
          "text": [
            "Enter 1: 3\n",
            "Enter 2: 4\n",
            "Enter 3: 5\n",
            "Area: 6.00\n"
          ]
        },
        {
          "output_type": "execute_result",
          "data": {
            "text/plain": [
              "True"
            ]
          },
          "metadata": {},
          "execution_count": 8
        }
      ]
    },
    {
      "cell_type": "code",
      "source": [
        "class Person():\n",
        "  def __init__(self, name):\n",
        "    self._name = name\n",
        "\n",
        "  @property\n",
        "  def name(self):\n",
        "    return self._name\n",
        "\n",
        "class Employee(Person):\n",
        "  def __init__(self, name, salary):\n",
        "    super().__init__(name)\n",
        "    self._salary = salary\n",
        "\n",
        "  @property\n",
        "  def salary(self):\n",
        "    return self._salary\n",
        "\n",
        "class Programmer(Employee):\n",
        "  def __init__(self, name, salary, bestProgrammingLanguage):\n",
        "    super().__init__(name, salary)\n",
        "    self._bestProgrammingLanguage = bestProgrammingLanguage\n",
        "\n",
        "  @property\n",
        "  def bestProgrammingLanguage(self):\n",
        "    return self._bestProgrammingLanguage\n",
        "\n",
        "pr1 = Programmer(\"Dogukan\", 5000, \"Python\")\n",
        "print(f\"Name: {pr1.name} \\nSalary: {pr1.salary} \\nBest Programming Language: {pr1.bestProgrammingLanguage}\")"
      ],
      "metadata": {
        "colab": {
          "base_uri": "https://localhost:8080/"
        },
        "id": "08zS5vIZF_wh",
        "outputId": "87c9eaac-fdb7-4b87-c83f-d321b9db79c9"
      },
      "execution_count": 25,
      "outputs": [
        {
          "output_type": "stream",
          "name": "stdout",
          "text": [
            "Name: Dogukan \n",
            "Salary: 5000 \n",
            "Best Programming Language: Python\n"
          ]
        }
      ]
    },
    {
      "cell_type": "markdown",
      "source": [
        "### Method Overriding"
      ],
      "metadata": {
        "id": "21Vej2bU1MDu"
      }
    },
    {
      "cell_type": "code",
      "source": [
        "class Person:\n",
        "  def __init__(self, name, surname, idNumber):\n",
        "    self.name = name\n",
        "    self.surname = surname\n",
        "    self.idNumber = idNumber\n",
        "\n",
        "  def __str__(self):\n",
        "    return \"\"\"\n",
        "    Name: {}\n",
        "    Surname: {}\n",
        "    ID: {}\n",
        "    \"\"\".format(self.name, self.surname, self.idNumber)\n",
        "\n",
        "class Employee(Person):\n",
        "  def __init__(self, name, surname, idNumber, salary):\n",
        "    super().__init__(name, surname, idNumber)\n",
        "    self.salary = salary\n",
        "\n",
        "  def __str__(self):\n",
        "    return \"\"\"\n",
        "    Name: {}\n",
        "    Surname: {}\n",
        "    ID: {}\n",
        "    Salary: {}\n",
        "    \"\"\".format(self.name, self.surname, self.idNumber, self.salary)\n",
        "\n",
        "p1 = Person(\"Dogukan\", \"Aksoy\", \"12345\")\n",
        "print(p1)\n",
        "\n",
        "e1 = Employee(\"Mehmet\", \"Solak\", \"11234\", 5000)\n",
        "print(e1)"
      ],
      "metadata": {
        "colab": {
          "base_uri": "https://localhost:8080/"
        },
        "id": "bZvpYaIU5HLo",
        "outputId": "e3255b1e-2617-495d-ba6b-0a6ee87cdc0e"
      },
      "execution_count": 18,
      "outputs": [
        {
          "output_type": "stream",
          "name": "stdout",
          "text": [
            "\n",
            "    Name: Dogukan\n",
            "    Surname: Aksoy\n",
            "    ID: 12345\n",
            "    \n",
            "\n",
            "    Name: Mehmet\n",
            "    Surname: Solak\n",
            "    ID: 11234\n",
            "    Salary: 5000\n",
            "    \n"
          ]
        }
      ]
    },
    {
      "cell_type": "code",
      "source": [
        "class Person:\n",
        "\n",
        "  __name:str = \"\"\n",
        "  __surname:str = \"\"\n",
        "\n",
        "  def __init__(self, name, surname):\n",
        "    self.name = name\n",
        "    self.surname = surname\n",
        "\n",
        "  @property\n",
        "  def name(self):\n",
        "    return f\"{self.__name[:3]}***\"\n",
        "\n",
        "  @name.setter\n",
        "  def name(self, value):\n",
        "    if len(value) > 2:\n",
        "      self.__name = value\n",
        "\n",
        "  @property\n",
        "  def surname(self):\n",
        "    return f\"{self.__surname[:3]}***\"\n",
        "\n",
        "  @surname.setter\n",
        "  def surname(self, value):\n",
        "    if len(value) > 2:\n",
        "      self.__surname = value\n",
        "\n",
        "class Employee(Person):\n",
        "\n",
        "  # name propertysi override edildi\n",
        "  @property\n",
        "  def name(self):\n",
        "    return self.__name\n",
        "\n",
        "  @name.setter\n",
        "  def name(self, value):\n",
        "    if len(value) > 2:\n",
        "      self.__name = value\n",
        "\n",
        "  def isEmployee(self):\n",
        "    return True\n",
        "\n",
        "emp1 = Employee(\"Dogukan\", \"Aksoy\")\n",
        "print(emp1.name)\n",
        "print(emp1.surname)"
      ],
      "metadata": {
        "colab": {
          "base_uri": "https://localhost:8080/"
        },
        "id": "Q-3uEa9O1XpK",
        "outputId": "47477f1d-96b4-430d-b09c-4f7f75d99a50"
      },
      "execution_count": 15,
      "outputs": [
        {
          "output_type": "stream",
          "name": "stdout",
          "text": [
            "Dogukan\n",
            "Aks***\n"
          ]
        }
      ]
    }
  ]
}